{
 "cells": [
  {
   "cell_type": "markdown",
   "metadata": {},
   "source": [
    "# PROJETO 1 - CIENCIA DOS DADOS\n",
    "\n",
    "** Nome: Mariana Sophia Abrantes **\n",
    "\n",
    "## Pergunta: Como o saneamento básico urbano e a energia produzida influencia no IDH? "
   ]
  },
  {
   "cell_type": "markdown",
   "metadata": {},
   "source": [
    "___\n",
    "\n",
    "# *** IDH, saneamento básico e energia ***\n",
    "\n",
    "Foram coletados três dados do site https://www.gapminder.org/:\n",
    "1. Sanemanto Básico Urbano\n",
    "2. Energia Produzida Total\n",
    "3. IDH\n",
    "\n",
    "No dataframe **dados** criado a seguir, o conteúdo de cada célula é a proporção da população que tem acesso a boas condições de saneamento básico urbano em um determinado ano (coluna) para determinado país (linha).\n",
    "\n",
    "No dataframe **dados2** criado a seguir, o conteúdo de cada célula é a medida da Energia Produzida total de um determinado ano (coluna) para um determinado país (linha).\n",
    "\n",
    "No dataframe **dados3** criado a seguir, o conteúdo de cada célula é o IDH de um determinado ano (coluna) para um determinado país (linha).\n",
    "\n",
    "A análise dos dados tem como objetivo descobrir se um bom desenvolvimento de energia e o seneamento basico influenciam no IDH e se estes dois dados influenciam entre si.\n",
    "\n",
    "Vamos nos restringir a analisar o ano de **2009**.\n"
   ]
  },
  {
   "cell_type": "markdown",
   "metadata": {},
   "source": [
    "# Imports "
   ]
  },
  {
   "cell_type": "code",
   "execution_count": 174,
   "metadata": {},
   "outputs": [],
   "source": [
    "%matplotlib inline\n",
    "import pandas as pd\n",
    "import numpy as np\n",
    "import math as math\n",
    "import seaborn as sns\n",
    "from scipy import stats\n",
    "import matplotlib.pyplot as plt"
   ]
  },
  {
   "cell_type": "code",
   "execution_count": 175,
   "metadata": {},
   "outputs": [
    {
     "name": "stdout",
     "output_type": "stream",
     "text": [
      "C:\\Users\\Mariana Abrantes\\Documents\\ciencia_dados\\Projeto1\\p1\n"
     ]
    }
   ],
   "source": [
    "import os\n",
    "print(os.getcwd())"
   ]
  },
  {
   "cell_type": "code",
   "execution_count": 196,
   "metadata": {},
   "outputs": [],
   "source": [
    "writer = pd.ExcelWriter('Projeto1_mariana.abrantes.xlsx')\n",
    "data.to_excel(writer, 'data')\n",
    "writer.save()"
   ]
  },
  {
   "cell_type": "markdown",
   "metadata": {},
   "source": [
    "# Leitura dos dados e fixação do ano "
   ]
  },
  {
   "cell_type": "markdown",
   "metadata": {},
   "source": [
    "### Saneamento Básico"
   ]
  },
  {
   "cell_type": "code",
   "execution_count": 176,
   "metadata": {
    "scrolled": true
   },
   "outputs": [],
   "source": [
    "dados = pd.read_excel('sanitation.xlsx')"
   ]
  },
  {
   "cell_type": "code",
   "execution_count": 177,
   "metadata": {},
   "outputs": [
    {
     "data": {
      "text/html": [
       "<div>\n",
       "<style scoped>\n",
       "    .dataframe tbody tr th:only-of-type {\n",
       "        vertical-align: middle;\n",
       "    }\n",
       "\n",
       "    .dataframe tbody tr th {\n",
       "        vertical-align: top;\n",
       "    }\n",
       "\n",
       "    .dataframe thead th {\n",
       "        text-align: right;\n",
       "    }\n",
       "</style>\n",
       "<table border=\"1\" class=\"dataframe\">\n",
       "  <thead>\n",
       "    <tr style=\"text-align: right;\">\n",
       "      <th></th>\n",
       "      <th>Country Name</th>\n",
       "      <th>Proportion of the population using improved sanitation facilities, urban</th>\n",
       "    </tr>\n",
       "  </thead>\n",
       "  <tbody>\n",
       "    <tr>\n",
       "      <th>0</th>\n",
       "      <td>Abkhazia</td>\n",
       "      <td>NaN</td>\n",
       "    </tr>\n",
       "    <tr>\n",
       "      <th>1</th>\n",
       "      <td>Afghanistan</td>\n",
       "      <td>60.0</td>\n",
       "    </tr>\n",
       "    <tr>\n",
       "      <th>2</th>\n",
       "      <td>Akrotiri and Dhekelia</td>\n",
       "      <td>NaN</td>\n",
       "    </tr>\n",
       "    <tr>\n",
       "      <th>3</th>\n",
       "      <td>Albania</td>\n",
       "      <td>95.0</td>\n",
       "    </tr>\n",
       "    <tr>\n",
       "      <th>4</th>\n",
       "      <td>Algeria</td>\n",
       "      <td>98.0</td>\n",
       "    </tr>\n",
       "  </tbody>\n",
       "</table>\n",
       "</div>"
      ],
      "text/plain": [
       "            Country Name  \\\n",
       "0               Abkhazia   \n",
       "1            Afghanistan   \n",
       "2  Akrotiri and Dhekelia   \n",
       "3                Albania   \n",
       "4                Algeria   \n",
       "\n",
       "   Proportion of the population using improved sanitation facilities, urban  \n",
       "0                                                NaN                         \n",
       "1                                               60.0                         \n",
       "2                                                NaN                         \n",
       "3                                               95.0                         \n",
       "4                                               98.0                         "
      ]
     },
     "execution_count": 177,
     "metadata": {},
     "output_type": "execute_result"
    }
   ],
   "source": [
    "dados = dados[['Proportion of the population using improved sanitation facilities, urban', 2009]]\n",
    "dados = dados.rename(index = str, columns = {'Proportion of the population using improved sanitation facilities, urban': \"Country Name\", 2009 : 'Proportion of the population using improved sanitation facilities, urban'})\n",
    "dados.head()"
   ]
  },
  {
   "cell_type": "markdown",
   "metadata": {},
   "source": [
    "### Energia "
   ]
  },
  {
   "cell_type": "code",
   "execution_count": 178,
   "metadata": {},
   "outputs": [],
   "source": [
    "dados2 = pd.read_excel(\"energy produce total.xlsx\")"
   ]
  },
  {
   "cell_type": "code",
   "execution_count": 179,
   "metadata": {},
   "outputs": [
    {
     "data": {
      "text/html": [
       "<div>\n",
       "<style scoped>\n",
       "    .dataframe tbody tr th:only-of-type {\n",
       "        vertical-align: middle;\n",
       "    }\n",
       "\n",
       "    .dataframe tbody tr th {\n",
       "        vertical-align: top;\n",
       "    }\n",
       "\n",
       "    .dataframe thead th {\n",
       "        text-align: right;\n",
       "    }\n",
       "</style>\n",
       "<table border=\"1\" class=\"dataframe\">\n",
       "  <thead>\n",
       "    <tr style=\"text-align: right;\">\n",
       "      <th></th>\n",
       "      <th>Country Name</th>\n",
       "      <th>Energy production</th>\n",
       "    </tr>\n",
       "  </thead>\n",
       "  <tbody>\n",
       "    <tr>\n",
       "      <th>0</th>\n",
       "      <td>Afghanistan</td>\n",
       "      <td>NaN</td>\n",
       "    </tr>\n",
       "    <tr>\n",
       "      <th>1</th>\n",
       "      <td>Albania</td>\n",
       "      <td>1253.804</td>\n",
       "    </tr>\n",
       "    <tr>\n",
       "      <th>2</th>\n",
       "      <td>Algeria</td>\n",
       "      <td>152291.931</td>\n",
       "    </tr>\n",
       "    <tr>\n",
       "      <th>3</th>\n",
       "      <td>American Samoa</td>\n",
       "      <td>NaN</td>\n",
       "    </tr>\n",
       "    <tr>\n",
       "      <th>4</th>\n",
       "      <td>Andorra</td>\n",
       "      <td>NaN</td>\n",
       "    </tr>\n",
       "  </tbody>\n",
       "</table>\n",
       "</div>"
      ],
      "text/plain": [
       "     Country Name  Energy production\n",
       "0     Afghanistan                NaN\n",
       "1         Albania           1253.804\n",
       "2         Algeria         152291.931\n",
       "3  American Samoa                NaN\n",
       "4         Andorra                NaN"
      ]
     },
     "execution_count": 179,
     "metadata": {},
     "output_type": "execute_result"
    }
   ],
   "source": [
    "dados2 = dados2[['Energy production, total (toe)', '2009']]\n",
    "dados2 = dados2.rename(index = str, columns = {'Energy production, total (toe)': \"Country Name\", '2009': 'Energy production'})\n",
    "dados2.head()"
   ]
  },
  {
   "cell_type": "markdown",
   "metadata": {},
   "source": [
    "### HDI"
   ]
  },
  {
   "cell_type": "code",
   "execution_count": 180,
   "metadata": {},
   "outputs": [
    {
     "data": {
      "text/html": [
       "<div>\n",
       "<style scoped>\n",
       "    .dataframe tbody tr th:only-of-type {\n",
       "        vertical-align: middle;\n",
       "    }\n",
       "\n",
       "    .dataframe tbody tr th {\n",
       "        vertical-align: top;\n",
       "    }\n",
       "\n",
       "    .dataframe thead th {\n",
       "        text-align: right;\n",
       "    }\n",
       "</style>\n",
       "<table border=\"1\" class=\"dataframe\">\n",
       "  <thead>\n",
       "    <tr style=\"text-align: right;\">\n",
       "      <th></th>\n",
       "      <th>Country Name</th>\n",
       "      <th>HDI</th>\n",
       "    </tr>\n",
       "  </thead>\n",
       "  <tbody>\n",
       "    <tr>\n",
       "      <th>0</th>\n",
       "      <td>Abkhazia</td>\n",
       "      <td>NaN</td>\n",
       "    </tr>\n",
       "    <tr>\n",
       "      <th>1</th>\n",
       "      <td>Afghanistan</td>\n",
       "      <td>0.387</td>\n",
       "    </tr>\n",
       "    <tr>\n",
       "      <th>2</th>\n",
       "      <td>Akrotiri and Dhekelia</td>\n",
       "      <td>NaN</td>\n",
       "    </tr>\n",
       "    <tr>\n",
       "      <th>3</th>\n",
       "      <td>Albania</td>\n",
       "      <td>0.734</td>\n",
       "    </tr>\n",
       "    <tr>\n",
       "      <th>4</th>\n",
       "      <td>Algeria</td>\n",
       "      <td>0.691</td>\n",
       "    </tr>\n",
       "  </tbody>\n",
       "</table>\n",
       "</div>"
      ],
      "text/plain": [
       "            Country Name    HDI\n",
       "0               Abkhazia    NaN\n",
       "1            Afghanistan  0.387\n",
       "2  Akrotiri and Dhekelia    NaN\n",
       "3                Albania  0.734\n",
       "4                Algeria  0.691"
      ]
     },
     "execution_count": 180,
     "metadata": {},
     "output_type": "execute_result"
    }
   ],
   "source": [
    "dados3 = pd.read_excel(\"Indicator_HDI.xlsx\")\n",
    "dados3 = dados3[['HDI', 2009]]\n",
    "dados3 = dados3.rename(index = str, columns = {'HDI': \"Country Name\", 2009: 'HDI'})\n",
    "dados3.head()"
   ]
  },
  {
   "cell_type": "markdown",
   "metadata": {},
   "source": [
    "# Junção das tabelas"
   ]
  },
  {
   "cell_type": "code",
   "execution_count": 181,
   "metadata": {},
   "outputs": [
    {
     "data": {
      "text/html": [
       "<div>\n",
       "<style scoped>\n",
       "    .dataframe tbody tr th:only-of-type {\n",
       "        vertical-align: middle;\n",
       "    }\n",
       "\n",
       "    .dataframe tbody tr th {\n",
       "        vertical-align: top;\n",
       "    }\n",
       "\n",
       "    .dataframe thead th {\n",
       "        text-align: right;\n",
       "    }\n",
       "</style>\n",
       "<table border=\"1\" class=\"dataframe\">\n",
       "  <thead>\n",
       "    <tr style=\"text-align: right;\">\n",
       "      <th></th>\n",
       "      <th>Country Name.</th>\n",
       "      <th>Proportion of the population using improved sanitation facilities, urban</th>\n",
       "      <th>Country Name.</th>\n",
       "      <th>Energy production</th>\n",
       "    </tr>\n",
       "  </thead>\n",
       "  <tbody>\n",
       "    <tr>\n",
       "      <th>0</th>\n",
       "      <td>Abkhazia</td>\n",
       "      <td>NaN</td>\n",
       "      <td>Afghanistan</td>\n",
       "      <td>NaN</td>\n",
       "    </tr>\n",
       "    <tr>\n",
       "      <th>1</th>\n",
       "      <td>Afghanistan</td>\n",
       "      <td>60.0</td>\n",
       "      <td>Albania</td>\n",
       "      <td>1253.804</td>\n",
       "    </tr>\n",
       "    <tr>\n",
       "      <th>2</th>\n",
       "      <td>Akrotiri and Dhekelia</td>\n",
       "      <td>NaN</td>\n",
       "      <td>Algeria</td>\n",
       "      <td>152291.931</td>\n",
       "    </tr>\n",
       "    <tr>\n",
       "      <th>3</th>\n",
       "      <td>Albania</td>\n",
       "      <td>95.0</td>\n",
       "      <td>American Samoa</td>\n",
       "      <td>NaN</td>\n",
       "    </tr>\n",
       "    <tr>\n",
       "      <th>4</th>\n",
       "      <td>Algeria</td>\n",
       "      <td>98.0</td>\n",
       "      <td>Andorra</td>\n",
       "      <td>NaN</td>\n",
       "    </tr>\n",
       "  </tbody>\n",
       "</table>\n",
       "</div>"
      ],
      "text/plain": [
       "           Country Name.  \\\n",
       "0               Abkhazia   \n",
       "1            Afghanistan   \n",
       "2  Akrotiri and Dhekelia   \n",
       "3                Albania   \n",
       "4                Algeria   \n",
       "\n",
       "   Proportion of the population using improved sanitation facilities, urban  \\\n",
       "0                                                NaN                          \n",
       "1                                               60.0                          \n",
       "2                                                NaN                          \n",
       "3                                               95.0                          \n",
       "4                                               98.0                          \n",
       "\n",
       "    Country Name.  Energy production  \n",
       "0     Afghanistan                NaN  \n",
       "1         Albania           1253.804  \n",
       "2         Algeria         152291.931  \n",
       "3  American Samoa                NaN  \n",
       "4         Andorra                NaN  "
      ]
     },
     "execution_count": 181,
     "metadata": {},
     "output_type": "execute_result"
    }
   ],
   "source": [
    "df = dados.join(dados2, how='inner', lsuffix='.', rsuffix='.')\n",
    "df.head()"
   ]
  },
  {
   "cell_type": "code",
   "execution_count": 182,
   "metadata": {
    "scrolled": true
   },
   "outputs": [
    {
     "data": {
      "text/html": [
       "<div>\n",
       "<style scoped>\n",
       "    .dataframe tbody tr th:only-of-type {\n",
       "        vertical-align: middle;\n",
       "    }\n",
       "\n",
       "    .dataframe tbody tr th {\n",
       "        vertical-align: top;\n",
       "    }\n",
       "\n",
       "    .dataframe thead th {\n",
       "        text-align: right;\n",
       "    }\n",
       "</style>\n",
       "<table border=\"1\" class=\"dataframe\">\n",
       "  <thead>\n",
       "    <tr style=\"text-align: right;\">\n",
       "      <th></th>\n",
       "      <th>Country Name.</th>\n",
       "      <th>Proportion of the population using improved sanitation facilities, urban</th>\n",
       "      <th>Country Name.</th>\n",
       "      <th>Energy production</th>\n",
       "      <th>Country Name</th>\n",
       "      <th>HDI</th>\n",
       "    </tr>\n",
       "  </thead>\n",
       "  <tbody>\n",
       "    <tr>\n",
       "      <th>0</th>\n",
       "      <td>Abkhazia</td>\n",
       "      <td>NaN</td>\n",
       "      <td>Afghanistan</td>\n",
       "      <td>NaN</td>\n",
       "      <td>Abkhazia</td>\n",
       "      <td>NaN</td>\n",
       "    </tr>\n",
       "    <tr>\n",
       "      <th>1</th>\n",
       "      <td>Afghanistan</td>\n",
       "      <td>60.0</td>\n",
       "      <td>Albania</td>\n",
       "      <td>1253.804</td>\n",
       "      <td>Afghanistan</td>\n",
       "      <td>0.387</td>\n",
       "    </tr>\n",
       "    <tr>\n",
       "      <th>2</th>\n",
       "      <td>Akrotiri and Dhekelia</td>\n",
       "      <td>NaN</td>\n",
       "      <td>Algeria</td>\n",
       "      <td>152291.931</td>\n",
       "      <td>Akrotiri and Dhekelia</td>\n",
       "      <td>NaN</td>\n",
       "    </tr>\n",
       "    <tr>\n",
       "      <th>3</th>\n",
       "      <td>Albania</td>\n",
       "      <td>95.0</td>\n",
       "      <td>American Samoa</td>\n",
       "      <td>NaN</td>\n",
       "      <td>Albania</td>\n",
       "      <td>0.734</td>\n",
       "    </tr>\n",
       "    <tr>\n",
       "      <th>4</th>\n",
       "      <td>Algeria</td>\n",
       "      <td>98.0</td>\n",
       "      <td>Andorra</td>\n",
       "      <td>NaN</td>\n",
       "      <td>Algeria</td>\n",
       "      <td>0.691</td>\n",
       "    </tr>\n",
       "  </tbody>\n",
       "</table>\n",
       "</div>"
      ],
      "text/plain": [
       "           Country Name.  \\\n",
       "0               Abkhazia   \n",
       "1            Afghanistan   \n",
       "2  Akrotiri and Dhekelia   \n",
       "3                Albania   \n",
       "4                Algeria   \n",
       "\n",
       "   Proportion of the population using improved sanitation facilities, urban  \\\n",
       "0                                                NaN                          \n",
       "1                                               60.0                          \n",
       "2                                                NaN                          \n",
       "3                                               95.0                          \n",
       "4                                               98.0                          \n",
       "\n",
       "    Country Name.  Energy production           Country Name    HDI  \n",
       "0     Afghanistan                NaN               Abkhazia    NaN  \n",
       "1         Albania           1253.804            Afghanistan  0.387  \n",
       "2         Algeria         152291.931  Akrotiri and Dhekelia    NaN  \n",
       "3  American Samoa                NaN                Albania  0.734  \n",
       "4         Andorra                NaN                Algeria  0.691  "
      ]
     },
     "execution_count": 182,
     "metadata": {},
     "output_type": "execute_result"
    }
   ],
   "source": [
    "data = df.join(dados3, how=\"inner\")\n",
    "data.head()"
   ]
  },
  {
   "cell_type": "markdown",
   "metadata": {},
   "source": [
    "# Plotando gráficos"
   ]
  },
  {
   "cell_type": "markdown",
   "metadata": {},
   "source": [
    "### Gráfico em box da Energia"
   ]
  },
  {
   "cell_type": "markdown",
   "metadata": {},
   "source": [
    "Depois de fazer o levantamento dos dados de energia e a junção com os outros dados, vamos plotar um grafico em box e sua descrição, afim de analisar melhor os dados e descobrir como está distribuida a energia produzida neste ano de 2009."
   ]
  },
  {
   "cell_type": "code",
   "execution_count": 183,
   "metadata": {},
   "outputs": [
    {
     "data": {
      "text/plain": [
       "count    1.350000e+02\n",
       "mean     9.014826e+04\n",
       "std      2.604072e+05\n",
       "min      0.000000e+00\n",
       "25%      3.403649e+03\n",
       "50%      1.521460e+04\n",
       "75%      6.736102e+04\n",
       "max      2.084940e+06\n",
       "Name: Energy production, dtype: float64"
      ]
     },
     "execution_count": 183,
     "metadata": {},
     "output_type": "execute_result"
    },
    {
     "data": {
      "image/png": "[encoded data removed]",
      "text/plain": [
       "<Figure size 432x288 with 1 Axes>"
      ]
     },
     "metadata": {},
     "output_type": "display_data"
    }
   ],
   "source": [
    "data.loc[:, \"Energy production\"].plot.box()\n",
    "data['Energy production'].describe()"
   ]
  },
  {
   "cell_type": "markdown",
   "metadata": {},
   "source": [
    "Podemos analisar que a distribuição da energia produzida fica abaixo de 500000, portanto podemos analisar esses dados mais perto, reduzindo os dados para 10000."
   ]
  },
  {
   "cell_type": "code",
   "execution_count": 198,
   "metadata": {},
   "outputs": [
    {
     "data": {
      "text/plain": [
       "count      58.000000\n",
       "mean     3305.568224\n",
       "std      2978.562981\n",
       "min         0.000000\n",
       "25%       853.231500\n",
       "50%      2144.050000\n",
       "75%      5036.430500\n",
       "max      9826.067000\n",
       "Name: Energy production, dtype: float64"
      ]
     },
     "execution_count": 198,
     "metadata": {},
     "output_type": "execute_result"
    },
    {
     "data": {
      "image/png": "[encoded data removed]",
      "text/plain": [
       "<Figure size 432x288 with 1 Axes>"
      ]
     },
     "metadata": {},
     "output_type": "display_data"
    }
   ],
   "source": [
    "data=data.dropna(subset=['Energy production'])\n",
    "data=data[data['Energy production']<10000]\n",
    "data.loc[:, \"Energy production\"].plot.box()\n",
    "data['Energy production'].describe()"
   ]
  },
  {
   "cell_type": "markdown",
   "metadata": {},
   "source": [
    "Depois de fazer a analise de distruibuição da energia produzida, vamos cruzar este dado com os dados de sanemanto básico urbano, afim de descobrir se eles possuem alguma relação."
   ]
  },
  {
   "cell_type": "code",
   "execution_count": 199,
   "metadata": {},
   "outputs": [
    {
     "name": "stdout",
     "output_type": "stream",
     "text": [
      "Proportion of the population using improved sanitation facilities, urban: 0.16258399904274784\n"
     ]
    },
    {
     "data": {
      "image/png": "[encoded data removed]",
      "text/plain": [
       "<Figure size 432x288 with 1 Axes>"
      ]
     },
     "metadata": {},
     "output_type": "display_data"
    }
   ],
   "source": [
    "df.plot.scatter(y='Proportion of the population using improved sanitation facilities, urban', x ='Energy production')\n",
    "sns.regplot(df[\"Energy production\"],df[\"Proportion of the population using improved sanitation facilities, urban\"], color=('lime'))\n",
    "print('Proportion of the population using improved sanitation facilities, urban:', data['Energy production'].corr(data['Proportion of the population using improved sanitation facilities, urban']))\n",
    "plt.grid()"
   ]
  },
  {
   "cell_type": "markdown",
   "metadata": {},
   "source": [
    "O gráfico nos mostra que os dados não possuem relação, sendo o valor da correlação 0.16258399904274784. Eles não apresentam nenhuma correlação pelo fato de serem dados independentes, ou seja, o saneamento básico urbano não depende da energia produzida para a população ter acesso. O mesmo ocorre para a energia. "
   ]
  },
  {
   "cell_type": "markdown",
   "metadata": {},
   "source": [
    "### Gráfico em box do IDH"
   ]
  },
  {
   "cell_type": "markdown",
   "metadata": {},
   "source": [
    "Vamos realizar o mesmo procedimento que foi feito acima. Plotaremos um gráfico em box e a descrição dos dados de IDH do ano de 2009."
   ]
  },
  {
   "cell_type": "code",
   "execution_count": 200,
   "metadata": {
    "scrolled": false
   },
   "outputs": [
    {
     "data": {
      "text/plain": [
       "count    40.000000\n",
       "mean      0.663675\n",
       "std       0.185611\n",
       "min       0.277000\n",
       "25%       0.555500\n",
       "50%       0.713000\n",
       "75%       0.805500\n",
       "max       0.941000\n",
       "Name: HDI, dtype: float64"
      ]
     },
     "execution_count": 200,
     "metadata": {},
     "output_type": "execute_result"
    },
    {
     "data": {
      "image/png": "[encoded data removed]",
      "text/plain": [
       "<Figure size 432x288 with 1 Axes>"
      ]
     },
     "metadata": {},
     "output_type": "display_data"
    }
   ],
   "source": [
    "data.loc[:, \"HDI\"].plot.box()\n",
    "data['HDI'].describe()"
   ]
  },
  {
   "cell_type": "markdown",
   "metadata": {},
   "source": [
    "Podemos avaliar que 50% dos paises estão concentrados entre 0.5 a 0.8 e não apresenta nenhum outlier. Em seguida iremos cruzar este dado com os dados de energia produzida para ver se possuem alguma relação."
   ]
  },
  {
   "cell_type": "code",
   "execution_count": 201,
   "metadata": {},
   "outputs": [
    {
     "name": "stdout",
     "output_type": "stream",
     "text": [
      "Energy production: 0.17977500616671918\n"
     ]
    },
    {
     "data": {
      "image/png": "[encoded data removed]",
      "text/plain": [
       "<Figure size 432x288 with 1 Axes>"
      ]
     },
     "metadata": {},
     "output_type": "display_data"
    }
   ],
   "source": [
    "data.plot.scatter(y ='HDI', x= 'Energy production' )\n",
    "sns.regplot(data[\"Energy production\"],data[\"HDI\"], color=('purple'))\n",
    "data=data.dropna(subset=['Energy production'])\n",
    "data=data[data['Energy production']<10000]\n",
    "print('Energy production:', data['HDI'].corr(data['Energy production']))\n",
    "plt.grid()"
   ]
  },
  {
   "cell_type": "markdown",
   "metadata": {},
   "source": [
    "A partir de sua analise, vemos que os dados também não possuem nenhuma relação, já que a correlação é de 0.17977500616671918. Isso se dá ao fato de que o Índice de Desenvolvimento Humano ser calculado com variáveis que não possuem influência com a energia produzida pelos países. (O IDH é calculado pela educação, expectativa de vida e PIB). "
   ]
  },
  {
   "cell_type": "markdown",
   "metadata": {},
   "source": [
    "### Gráfico em box da população que tem acesso a boas condições de saneamento básico urbano."
   ]
  },
  {
   "cell_type": "markdown",
   "metadata": {},
   "source": [
    "Como fizemos acima, também plotaremos um gráfico em box e uma descrição sobre os dados de sanemaento básico urbano, afim de descobrir se este dado possui alguma relação com o IDH."
   ]
  },
  {
   "cell_type": "code",
   "execution_count": 188,
   "metadata": {},
   "outputs": [
    {
     "data": {
      "text/plain": [
       "count     42.000000\n",
       "mean      79.047619\n",
       "std       25.025794\n",
       "min       19.000000\n",
       "25%       65.750000\n",
       "50%       91.500000\n",
       "75%       99.000000\n",
       "max      100.000000\n",
       "Name: Proportion of the population using improved sanitation facilities, urban, dtype: float64"
      ]
     },
     "execution_count": 188,
     "metadata": {},
     "output_type": "execute_result"
    },
    {
     "data": {
      "image/png": "[encoded data removed]",
      "text/plain": [
       "<Figure size 432x288 with 1 Axes>"
      ]
     },
     "metadata": {},
     "output_type": "display_data"
    }
   ],
   "source": [
    "data.loc[:, \"Proportion of the population using improved sanitation facilities, urban\"].plot.box()\n",
    "data['Proportion of the population using improved sanitation facilities, urban'].describe()"
   ]
  },
  {
   "cell_type": "markdown",
   "metadata": {},
   "source": [
    "Podemos observar que a concentração da população urbana que tem acesso ao saneamento básico se encontra entre 60 a 100 milhões de habitantes. A seguir cruzaremos este dado com o IDH para enfim descobrir se possuem alguma relação."
   ]
  },
  {
   "cell_type": "code",
   "execution_count": 189,
   "metadata": {},
   "outputs": [
    {
     "name": "stdout",
     "output_type": "stream",
     "text": [
      "Proportion of the population using improved sanitation facilities, urban: 0.8666366014422302\n"
     ]
    },
    {
     "data": {
      "image/png": "[encoded data removed]",
      "text/plain": [
       "<Figure size 432x288 with 1 Axes>"
      ]
     },
     "metadata": {},
     "output_type": "display_data"
    }
   ],
   "source": [
    "data.plot.scatter(y ='HDI', x= 'Proportion of the population using improved sanitation facilities, urban' )\n",
    "sns.regplot(data['Proportion of the population using improved sanitation facilities, urban'],data[\"HDI\"], color=('yellow'))\n",
    "print('Proportion of the population using improved sanitation facilities, urban:', data['HDI'].corr(data['Proportion of the population using improved sanitation facilities, urban']))\n",
    "plt.grid()"
   ]
  },
  {
   "cell_type": "markdown",
   "metadata": {},
   "source": [
    "Podemos analisar que os dados possuem relação, já que sua correlação é  0.8666366014422302 (próxima a 1). Isso se dá ao fato de que o acesso da população ao sanemanento básico interferir na expectativa de vida, pois com sanemaneto básico os problemas à saúde diminuiem, gerando um aumento da expectativa de vida."
   ]
  },
  {
   "cell_type": "markdown",
   "metadata": {},
   "source": [
    "## Analisando os paises com baixo IDH"
   ]
  },
  {
   "cell_type": "markdown",
   "metadata": {},
   "source": [
    "Vamos agora analisar os paises com os piores índices de IDH, baixo saneamento e energia produzida, para no fim analisar os comportamento dos dados."
   ]
  },
  {
   "cell_type": "code",
   "execution_count": 205,
   "metadata": {},
   "outputs": [
    {
     "data": {
      "text/html": [
       "<div>\n",
       "<style scoped>\n",
       "    .dataframe tbody tr th:only-of-type {\n",
       "        vertical-align: middle;\n",
       "    }\n",
       "\n",
       "    .dataframe tbody tr th {\n",
       "        vertical-align: top;\n",
       "    }\n",
       "\n",
       "    .dataframe thead th {\n",
       "        text-align: right;\n",
       "    }\n",
       "</style>\n",
       "<table border=\"1\" class=\"dataframe\">\n",
       "  <thead>\n",
       "    <tr style=\"text-align: right;\">\n",
       "      <th></th>\n",
       "      <th>Country Name</th>\n",
       "      <th>HDI</th>\n",
       "    </tr>\n",
       "  </thead>\n",
       "  <tbody>\n",
       "    <tr>\n",
       "      <th>1</th>\n",
       "      <td>Afghanistan</td>\n",
       "      <td>0.387</td>\n",
       "    </tr>\n",
       "    <tr>\n",
       "      <th>33</th>\n",
       "      <td>Burkina Faso</td>\n",
       "      <td>0.326</td>\n",
       "    </tr>\n",
       "    <tr>\n",
       "      <th>34</th>\n",
       "      <td>Burundi</td>\n",
       "      <td>0.308</td>\n",
       "    </tr>\n",
       "    <tr>\n",
       "      <th>40</th>\n",
       "      <td>Central African Republic</td>\n",
       "      <td>0.334</td>\n",
       "    </tr>\n",
       "    <tr>\n",
       "      <th>41</th>\n",
       "      <td>Chad</td>\n",
       "      <td>0.323</td>\n",
       "    </tr>\n",
       "    <tr>\n",
       "      <th>49</th>\n",
       "      <td>Congo, Dem. Rep.</td>\n",
       "      <td>0.277</td>\n",
       "    </tr>\n",
       "    <tr>\n",
       "      <th>53</th>\n",
       "      <td>Cote d'Ivoire</td>\n",
       "      <td>0.397</td>\n",
       "    </tr>\n",
       "    <tr>\n",
       "      <th>71</th>\n",
       "      <td>Ethiopia</td>\n",
       "      <td>0.353</td>\n",
       "    </tr>\n",
       "    <tr>\n",
       "      <th>92</th>\n",
       "      <td>Guinea</td>\n",
       "      <td>0.341</td>\n",
       "    </tr>\n",
       "    <tr>\n",
       "      <th>93</th>\n",
       "      <td>Guinea-Bissau</td>\n",
       "      <td>0.348</td>\n",
       "    </tr>\n",
       "    <tr>\n",
       "      <th>126</th>\n",
       "      <td>Liberia</td>\n",
       "      <td>0.320</td>\n",
       "    </tr>\n",
       "    <tr>\n",
       "      <th>134</th>\n",
       "      <td>Malawi</td>\n",
       "      <td>0.387</td>\n",
       "    </tr>\n",
       "    <tr>\n",
       "      <th>137</th>\n",
       "      <td>Mali</td>\n",
       "      <td>0.352</td>\n",
       "    </tr>\n",
       "    <tr>\n",
       "      <th>152</th>\n",
       "      <td>Mozambique</td>\n",
       "      <td>0.312</td>\n",
       "    </tr>\n",
       "    <tr>\n",
       "      <th>163</th>\n",
       "      <td>Niger</td>\n",
       "      <td>0.285</td>\n",
       "    </tr>\n",
       "    <tr>\n",
       "      <th>203</th>\n",
       "      <td>Sierra Leone</td>\n",
       "      <td>0.329</td>\n",
       "    </tr>\n",
       "    <tr>\n",
       "      <th>257</th>\n",
       "      <td>Zimbabwe</td>\n",
       "      <td>0.349</td>\n",
       "    </tr>\n",
       "  </tbody>\n",
       "</table>\n",
       "</div>"
      ],
      "text/plain": [
       "                 Country Name    HDI\n",
       "1                 Afghanistan  0.387\n",
       "33               Burkina Faso  0.326\n",
       "34                    Burundi  0.308\n",
       "40   Central African Republic  0.334\n",
       "41                       Chad  0.323\n",
       "49           Congo, Dem. Rep.  0.277\n",
       "53              Cote d'Ivoire  0.397\n",
       "71                   Ethiopia  0.353\n",
       "92                     Guinea  0.341\n",
       "93              Guinea-Bissau  0.348\n",
       "126                   Liberia  0.320\n",
       "134                    Malawi  0.387\n",
       "137                      Mali  0.352\n",
       "152                Mozambique  0.312\n",
       "163                     Niger  0.285\n",
       "203              Sierra Leone  0.329\n",
       "257                  Zimbabwe  0.349"
      ]
     },
     "execution_count": 205,
     "metadata": {},
     "output_type": "execute_result"
    }
   ],
   "source": [
    "idh = dados3[dados3['HDI'] <= 0.4]\n",
    "idh"
   ]
  },
  {
   "cell_type": "code",
   "execution_count": 206,
   "metadata": {},
   "outputs": [
    {
     "data": {
      "text/html": [
       "<div>\n",
       "<style scoped>\n",
       "    .dataframe tbody tr th:only-of-type {\n",
       "        vertical-align: middle;\n",
       "    }\n",
       "\n",
       "    .dataframe tbody tr th {\n",
       "        vertical-align: top;\n",
       "    }\n",
       "\n",
       "    .dataframe thead th {\n",
       "        text-align: right;\n",
       "    }\n",
       "</style>\n",
       "<table border=\"1\" class=\"dataframe\">\n",
       "  <thead>\n",
       "    <tr style=\"text-align: right;\">\n",
       "      <th></th>\n",
       "      <th>Country Name</th>\n",
       "      <th>Energy production</th>\n",
       "    </tr>\n",
       "  </thead>\n",
       "  <tbody>\n",
       "    <tr>\n",
       "      <th>1</th>\n",
       "      <td>Albania</td>\n",
       "      <td>1253.804</td>\n",
       "    </tr>\n",
       "    <tr>\n",
       "      <th>8</th>\n",
       "      <td>Armenia</td>\n",
       "      <td>824.933</td>\n",
       "    </tr>\n",
       "    <tr>\n",
       "      <th>17</th>\n",
       "      <td>Belarus</td>\n",
       "      <td>4045.351</td>\n",
       "    </tr>\n",
       "    <tr>\n",
       "      <th>20</th>\n",
       "      <td>Benin</td>\n",
       "      <td>1995.556</td>\n",
       "    </tr>\n",
       "    <tr>\n",
       "      <th>24</th>\n",
       "      <td>Bosnia and Herzegovina</td>\n",
       "      <td>4473.804</td>\n",
       "    </tr>\n",
       "    <tr>\n",
       "      <th>25</th>\n",
       "      <td>Botswana</td>\n",
       "      <td>938.127</td>\n",
       "    </tr>\n",
       "    <tr>\n",
       "      <th>28</th>\n",
       "      <td>Bulgaria</td>\n",
       "      <td>9826.067</td>\n",
       "    </tr>\n",
       "    <tr>\n",
       "      <th>31</th>\n",
       "      <td>Cambodia</td>\n",
       "      <td>3667.950</td>\n",
       "    </tr>\n",
       "    <tr>\n",
       "      <th>32</th>\n",
       "      <td>Cameroon</td>\n",
       "      <td>8848.610</td>\n",
       "    </tr>\n",
       "    <tr>\n",
       "      <th>39</th>\n",
       "      <td>Chile</td>\n",
       "      <td>9298.844</td>\n",
       "    </tr>\n",
       "  </tbody>\n",
       "</table>\n",
       "</div>"
      ],
      "text/plain": [
       "              Country Name  Energy production\n",
       "1                  Albania           1253.804\n",
       "8                  Armenia            824.933\n",
       "17                 Belarus           4045.351\n",
       "20                   Benin           1995.556\n",
       "24  Bosnia and Herzegovina           4473.804\n",
       "25                Botswana            938.127\n",
       "28                Bulgaria           9826.067\n",
       "31                Cambodia           3667.950\n",
       "32                Cameroon           8848.610\n",
       "39                   Chile           9298.844"
      ]
     },
     "execution_count": 206,
     "metadata": {},
     "output_type": "execute_result"
    }
   ],
   "source": [
    "ener = dados2[dados2['Energy production'] <= 10000].head(10)\n",
    "ener"
   ]
  },
  {
   "cell_type": "code",
   "execution_count": 220,
   "metadata": {},
   "outputs": [
    {
     "data": {
      "text/html": [
       "<div>\n",
       "<style scoped>\n",
       "    .dataframe tbody tr th:only-of-type {\n",
       "        vertical-align: middle;\n",
       "    }\n",
       "\n",
       "    .dataframe tbody tr th {\n",
       "        vertical-align: top;\n",
       "    }\n",
       "\n",
       "    .dataframe thead th {\n",
       "        text-align: right;\n",
       "    }\n",
       "</style>\n",
       "<table border=\"1\" class=\"dataframe\">\n",
       "  <thead>\n",
       "    <tr style=\"text-align: right;\">\n",
       "      <th></th>\n",
       "      <th>Country Name</th>\n",
       "      <th>Energy production</th>\n",
       "    </tr>\n",
       "  </thead>\n",
       "  <tbody>\n",
       "    <tr>\n",
       "      <th>0</th>\n",
       "      <td>Afghanistan</td>\n",
       "      <td>NaN</td>\n",
       "    </tr>\n",
       "    <tr>\n",
       "      <th>1</th>\n",
       "      <td>Albania</td>\n",
       "      <td>1253.804</td>\n",
       "    </tr>\n",
       "    <tr>\n",
       "      <th>2</th>\n",
       "      <td>Algeria</td>\n",
       "      <td>152291.931</td>\n",
       "    </tr>\n",
       "    <tr>\n",
       "      <th>3</th>\n",
       "      <td>American Samoa</td>\n",
       "      <td>NaN</td>\n",
       "    </tr>\n",
       "    <tr>\n",
       "      <th>4</th>\n",
       "      <td>Andorra</td>\n",
       "      <td>NaN</td>\n",
       "    </tr>\n",
       "    <tr>\n",
       "      <th>5</th>\n",
       "      <td>Angola</td>\n",
       "      <td>100957.649</td>\n",
       "    </tr>\n",
       "    <tr>\n",
       "      <th>6</th>\n",
       "      <td>Antigua and Barbuda</td>\n",
       "      <td>NaN</td>\n",
       "    </tr>\n",
       "    <tr>\n",
       "      <th>7</th>\n",
       "      <td>Argentina</td>\n",
       "      <td>80818.691</td>\n",
       "    </tr>\n",
       "    <tr>\n",
       "      <th>8</th>\n",
       "      <td>Armenia</td>\n",
       "      <td>824.933</td>\n",
       "    </tr>\n",
       "    <tr>\n",
       "      <th>9</th>\n",
       "      <td>Aruba</td>\n",
       "      <td>NaN</td>\n",
       "    </tr>\n",
       "    <tr>\n",
       "      <th>10</th>\n",
       "      <td>Australia</td>\n",
       "      <td>310697.653</td>\n",
       "    </tr>\n",
       "    <tr>\n",
       "      <th>11</th>\n",
       "      <td>Austria</td>\n",
       "      <td>11399.489</td>\n",
       "    </tr>\n",
       "    <tr>\n",
       "      <th>12</th>\n",
       "      <td>Azerbaijan</td>\n",
       "      <td>64558.519</td>\n",
       "    </tr>\n",
       "    <tr>\n",
       "      <th>13</th>\n",
       "      <td>Bahamas</td>\n",
       "      <td>NaN</td>\n",
       "    </tr>\n",
       "    <tr>\n",
       "      <th>14</th>\n",
       "      <td>Bahrain</td>\n",
       "      <td>17548.000</td>\n",
       "    </tr>\n",
       "    <tr>\n",
       "      <th>15</th>\n",
       "      <td>Bangladesh</td>\n",
       "      <td>24837.910</td>\n",
       "    </tr>\n",
       "    <tr>\n",
       "      <th>16</th>\n",
       "      <td>Barbados</td>\n",
       "      <td>NaN</td>\n",
       "    </tr>\n",
       "    <tr>\n",
       "      <th>17</th>\n",
       "      <td>Belarus</td>\n",
       "      <td>4045.351</td>\n",
       "    </tr>\n",
       "    <tr>\n",
       "      <th>18</th>\n",
       "      <td>Belgium</td>\n",
       "      <td>15318.384</td>\n",
       "    </tr>\n",
       "    <tr>\n",
       "      <th>19</th>\n",
       "      <td>Belize</td>\n",
       "      <td>NaN</td>\n",
       "    </tr>\n",
       "    <tr>\n",
       "      <th>20</th>\n",
       "      <td>Benin</td>\n",
       "      <td>1995.556</td>\n",
       "    </tr>\n",
       "    <tr>\n",
       "      <th>21</th>\n",
       "      <td>Bermuda</td>\n",
       "      <td>NaN</td>\n",
       "    </tr>\n",
       "    <tr>\n",
       "      <th>22</th>\n",
       "      <td>Bhutan</td>\n",
       "      <td>NaN</td>\n",
       "    </tr>\n",
       "    <tr>\n",
       "      <th>23</th>\n",
       "      <td>Bolivia</td>\n",
       "      <td>14194.630</td>\n",
       "    </tr>\n",
       "    <tr>\n",
       "      <th>24</th>\n",
       "      <td>Bosnia and Herzegovina</td>\n",
       "      <td>4473.804</td>\n",
       "    </tr>\n",
       "    <tr>\n",
       "      <th>25</th>\n",
       "      <td>Botswana</td>\n",
       "      <td>938.127</td>\n",
       "    </tr>\n",
       "    <tr>\n",
       "      <th>26</th>\n",
       "      <td>Brazil</td>\n",
       "      <td>230306.734</td>\n",
       "    </tr>\n",
       "    <tr>\n",
       "      <th>27</th>\n",
       "      <td>Brunei</td>\n",
       "      <td>18939.296</td>\n",
       "    </tr>\n",
       "    <tr>\n",
       "      <th>28</th>\n",
       "      <td>Bulgaria</td>\n",
       "      <td>9826.067</td>\n",
       "    </tr>\n",
       "    <tr>\n",
       "      <th>29</th>\n",
       "      <td>Burkina Faso</td>\n",
       "      <td>NaN</td>\n",
       "    </tr>\n",
       "    <tr>\n",
       "      <th>...</th>\n",
       "      <td>...</td>\n",
       "      <td>...</td>\n",
       "    </tr>\n",
       "    <tr>\n",
       "      <th>183</th>\n",
       "      <td>Sweden</td>\n",
       "      <td>30345.028</td>\n",
       "    </tr>\n",
       "    <tr>\n",
       "      <th>184</th>\n",
       "      <td>Switzerland</td>\n",
       "      <td>12765.765</td>\n",
       "    </tr>\n",
       "    <tr>\n",
       "      <th>185</th>\n",
       "      <td>Syria</td>\n",
       "      <td>23579.964</td>\n",
       "    </tr>\n",
       "    <tr>\n",
       "      <th>186</th>\n",
       "      <td>Tajikistan</td>\n",
       "      <td>1501.677</td>\n",
       "    </tr>\n",
       "    <tr>\n",
       "      <th>187</th>\n",
       "      <td>Tanzania</td>\n",
       "      <td>18045.672</td>\n",
       "    </tr>\n",
       "    <tr>\n",
       "      <th>188</th>\n",
       "      <td>Thailand</td>\n",
       "      <td>61705.157</td>\n",
       "    </tr>\n",
       "    <tr>\n",
       "      <th>189</th>\n",
       "      <td>Timor-Leste</td>\n",
       "      <td>NaN</td>\n",
       "    </tr>\n",
       "    <tr>\n",
       "      <th>190</th>\n",
       "      <td>Togo</td>\n",
       "      <td>2191.131</td>\n",
       "    </tr>\n",
       "    <tr>\n",
       "      <th>191</th>\n",
       "      <td>Tonga</td>\n",
       "      <td>NaN</td>\n",
       "    </tr>\n",
       "    <tr>\n",
       "      <th>192</th>\n",
       "      <td>Trinidad and Tobago</td>\n",
       "      <td>44004.760</td>\n",
       "    </tr>\n",
       "    <tr>\n",
       "      <th>193</th>\n",
       "      <td>Tunisia</td>\n",
       "      <td>7811.455</td>\n",
       "    </tr>\n",
       "    <tr>\n",
       "      <th>194</th>\n",
       "      <td>Turkey</td>\n",
       "      <td>30280.007</td>\n",
       "    </tr>\n",
       "    <tr>\n",
       "      <th>195</th>\n",
       "      <td>Turkmenistan</td>\n",
       "      <td>40904.424</td>\n",
       "    </tr>\n",
       "    <tr>\n",
       "      <th>196</th>\n",
       "      <td>Turks and Caicos Islands</td>\n",
       "      <td>NaN</td>\n",
       "    </tr>\n",
       "    <tr>\n",
       "      <th>197</th>\n",
       "      <td>Tuvalu</td>\n",
       "      <td>NaN</td>\n",
       "    </tr>\n",
       "    <tr>\n",
       "      <th>198</th>\n",
       "      <td>Uganda</td>\n",
       "      <td>NaN</td>\n",
       "    </tr>\n",
       "    <tr>\n",
       "      <th>199</th>\n",
       "      <td>Ukraine</td>\n",
       "      <td>76913.640</td>\n",
       "    </tr>\n",
       "    <tr>\n",
       "      <th>200</th>\n",
       "      <td>United Arab Emirates</td>\n",
       "      <td>168799.836</td>\n",
       "    </tr>\n",
       "    <tr>\n",
       "      <th>201</th>\n",
       "      <td>United Kingdom</td>\n",
       "      <td>158912.312</td>\n",
       "    </tr>\n",
       "    <tr>\n",
       "      <th>202</th>\n",
       "      <td>United States</td>\n",
       "      <td>1686401.725</td>\n",
       "    </tr>\n",
       "    <tr>\n",
       "      <th>203</th>\n",
       "      <td>Uruguay</td>\n",
       "      <td>1518.894</td>\n",
       "    </tr>\n",
       "    <tr>\n",
       "      <th>204</th>\n",
       "      <td>Uzbekistan</td>\n",
       "      <td>60693.646</td>\n",
       "    </tr>\n",
       "    <tr>\n",
       "      <th>205</th>\n",
       "      <td>Vanuatu</td>\n",
       "      <td>NaN</td>\n",
       "    </tr>\n",
       "    <tr>\n",
       "      <th>206</th>\n",
       "      <td>Venezuela</td>\n",
       "      <td>203530.996</td>\n",
       "    </tr>\n",
       "    <tr>\n",
       "      <th>207</th>\n",
       "      <td>Vietnam</td>\n",
       "      <td>76642.218</td>\n",
       "    </tr>\n",
       "    <tr>\n",
       "      <th>208</th>\n",
       "      <td>Virgin Islands (U.S.)</td>\n",
       "      <td>NaN</td>\n",
       "    </tr>\n",
       "    <tr>\n",
       "      <th>209</th>\n",
       "      <td>West Bank and Gaza</td>\n",
       "      <td>NaN</td>\n",
       "    </tr>\n",
       "    <tr>\n",
       "      <th>210</th>\n",
       "      <td>Yemen, Rep.</td>\n",
       "      <td>15221.547</td>\n",
       "    </tr>\n",
       "    <tr>\n",
       "      <th>211</th>\n",
       "      <td>Zambia</td>\n",
       "      <td>7241.325</td>\n",
       "    </tr>\n",
       "    <tr>\n",
       "      <th>212</th>\n",
       "      <td>Zimbabwe</td>\n",
       "      <td>8530.375</td>\n",
       "    </tr>\n",
       "  </tbody>\n",
       "</table>\n",
       "<p>213 rows × 2 columns</p>\n",
       "</div>"
      ],
      "text/plain": [
       "                 Country Name  Energy production\n",
       "0                 Afghanistan                NaN\n",
       "1                     Albania           1253.804\n",
       "2                     Algeria         152291.931\n",
       "3              American Samoa                NaN\n",
       "4                     Andorra                NaN\n",
       "5                      Angola         100957.649\n",
       "6         Antigua and Barbuda                NaN\n",
       "7                   Argentina          80818.691\n",
       "8                     Armenia            824.933\n",
       "9                       Aruba                NaN\n",
       "10                  Australia         310697.653\n",
       "11                    Austria          11399.489\n",
       "12                 Azerbaijan          64558.519\n",
       "13                    Bahamas                NaN\n",
       "14                    Bahrain          17548.000\n",
       "15                 Bangladesh          24837.910\n",
       "16                   Barbados                NaN\n",
       "17                    Belarus           4045.351\n",
       "18                    Belgium          15318.384\n",
       "19                     Belize                NaN\n",
       "20                      Benin           1995.556\n",
       "21                    Bermuda                NaN\n",
       "22                     Bhutan                NaN\n",
       "23                    Bolivia          14194.630\n",
       "24     Bosnia and Herzegovina           4473.804\n",
       "25                   Botswana            938.127\n",
       "26                     Brazil         230306.734\n",
       "27                     Brunei          18939.296\n",
       "28                   Bulgaria           9826.067\n",
       "29               Burkina Faso                NaN\n",
       "..                        ...                ...\n",
       "183                    Sweden          30345.028\n",
       "184               Switzerland          12765.765\n",
       "185                     Syria          23579.964\n",
       "186                Tajikistan           1501.677\n",
       "187                  Tanzania          18045.672\n",
       "188                  Thailand          61705.157\n",
       "189               Timor-Leste                NaN\n",
       "190                      Togo           2191.131\n",
       "191                     Tonga                NaN\n",
       "192       Trinidad and Tobago          44004.760\n",
       "193                   Tunisia           7811.455\n",
       "194                    Turkey          30280.007\n",
       "195              Turkmenistan          40904.424\n",
       "196  Turks and Caicos Islands                NaN\n",
       "197                    Tuvalu                NaN\n",
       "198                    Uganda                NaN\n",
       "199                   Ukraine          76913.640\n",
       "200      United Arab Emirates         168799.836\n",
       "201            United Kingdom         158912.312\n",
       "202             United States        1686401.725\n",
       "203                   Uruguay           1518.894\n",
       "204                Uzbekistan          60693.646\n",
       "205                   Vanuatu                NaN\n",
       "206                 Venezuela         203530.996\n",
       "207                   Vietnam          76642.218\n",
       "208     Virgin Islands (U.S.)                NaN\n",
       "209        West Bank and Gaza                NaN\n",
       "210               Yemen, Rep.          15221.547\n",
       "211                    Zambia           7241.325\n",
       "212                  Zimbabwe           8530.375\n",
       "\n",
       "[213 rows x 2 columns]"
      ]
     },
     "execution_count": 220,
     "metadata": {},
     "output_type": "execute_result"
    }
   ],
   "source": [
    "dados2[dados2['Energy production'] >= 50000].tail()\n",
    "dados2"
   ]
  },
  {
   "cell_type": "code",
   "execution_count": 207,
   "metadata": {},
   "outputs": [
    {
     "data": {
      "text/html": [
       "<div>\n",
       "<style scoped>\n",
       "    .dataframe tbody tr th:only-of-type {\n",
       "        vertical-align: middle;\n",
       "    }\n",
       "\n",
       "    .dataframe tbody tr th {\n",
       "        vertical-align: top;\n",
       "    }\n",
       "\n",
       "    .dataframe thead th {\n",
       "        text-align: right;\n",
       "    }\n",
       "</style>\n",
       "<table border=\"1\" class=\"dataframe\">\n",
       "  <thead>\n",
       "    <tr style=\"text-align: right;\">\n",
       "      <th></th>\n",
       "      <th>Country Name</th>\n",
       "      <th>Proportion of the population using improved sanitation facilities, urban</th>\n",
       "    </tr>\n",
       "  </thead>\n",
       "  <tbody>\n",
       "    <tr>\n",
       "      <th>23</th>\n",
       "      <td>Benin</td>\n",
       "      <td>24.0</td>\n",
       "    </tr>\n",
       "    <tr>\n",
       "      <th>41</th>\n",
       "      <td>Chad</td>\n",
       "      <td>30.0</td>\n",
       "    </tr>\n",
       "    <tr>\n",
       "      <th>49</th>\n",
       "      <td>Congo, Dem. Rep.</td>\n",
       "      <td>24.0</td>\n",
       "    </tr>\n",
       "    <tr>\n",
       "      <th>50</th>\n",
       "      <td>Congo, Rep.</td>\n",
       "      <td>20.0</td>\n",
       "    </tr>\n",
       "    <tr>\n",
       "      <th>71</th>\n",
       "      <td>Ethiopia</td>\n",
       "      <td>28.0</td>\n",
       "    </tr>\n",
       "    <tr>\n",
       "      <th>83</th>\n",
       "      <td>Ghana</td>\n",
       "      <td>19.0</td>\n",
       "    </tr>\n",
       "    <tr>\n",
       "      <th>95</th>\n",
       "      <td>Haiti</td>\n",
       "      <td>24.0</td>\n",
       "    </tr>\n",
       "    <tr>\n",
       "      <th>126</th>\n",
       "      <td>Liberia</td>\n",
       "      <td>29.0</td>\n",
       "    </tr>\n",
       "    <tr>\n",
       "      <th>133</th>\n",
       "      <td>Madagascar</td>\n",
       "      <td>21.0</td>\n",
       "    </tr>\n",
       "    <tr>\n",
       "      <th>196</th>\n",
       "      <td>Sao Tome and Principe</td>\n",
       "      <td>30.0</td>\n",
       "    </tr>\n",
       "    <tr>\n",
       "      <th>203</th>\n",
       "      <td>Sierra Leone</td>\n",
       "      <td>23.0</td>\n",
       "    </tr>\n",
       "    <tr>\n",
       "      <th>223</th>\n",
       "      <td>Tanzania</td>\n",
       "      <td>20.0</td>\n",
       "    </tr>\n",
       "    <tr>\n",
       "      <th>226</th>\n",
       "      <td>Togo</td>\n",
       "      <td>26.0</td>\n",
       "    </tr>\n",
       "  </tbody>\n",
       "</table>\n",
       "</div>"
      ],
      "text/plain": [
       "              Country Name  \\\n",
       "23                   Benin   \n",
       "41                    Chad   \n",
       "49        Congo, Dem. Rep.   \n",
       "50             Congo, Rep.   \n",
       "71                Ethiopia   \n",
       "83                   Ghana   \n",
       "95                   Haiti   \n",
       "126                Liberia   \n",
       "133             Madagascar   \n",
       "196  Sao Tome and Principe   \n",
       "203           Sierra Leone   \n",
       "223               Tanzania   \n",
       "226                   Togo   \n",
       "\n",
       "     Proportion of the population using improved sanitation facilities, urban  \n",
       "23                                                24.0                         \n",
       "41                                                30.0                         \n",
       "49                                                24.0                         \n",
       "50                                                20.0                         \n",
       "71                                                28.0                         \n",
       "83                                                19.0                         \n",
       "95                                                24.0                         \n",
       "126                                               29.0                         \n",
       "133                                               21.0                         \n",
       "196                                               30.0                         \n",
       "203                                               23.0                         \n",
       "223                                               20.0                         \n",
       "226                                               26.0                         "
      ]
     },
     "execution_count": 207,
     "metadata": {},
     "output_type": "execute_result"
    }
   ],
   "source": [
    "sb= dados[dados['Proportion of the population using improved sanitation facilities, urban']<= 30]\n",
    "sb"
   ]
  },
  {
   "cell_type": "markdown",
   "metadata": {},
   "source": [
    "## Histograma do IDH, Energia e Sanemanto dos paises subdesenvolvidos"
   ]
  },
  {
   "cell_type": "markdown",
   "metadata": {},
   "source": [
    "### Saneamento básico urbano"
   ]
  },
  {
   "cell_type": "code",
   "execution_count": 208,
   "metadata": {},
   "outputs": [
    {
     "data": {
      "image/png": "[encoded data removed]",
      "text/plain": [
       "<Figure size 432x288 with 1 Axes>"
      ]
     },
     "metadata": {},
     "output_type": "display_data"
    }
   ],
   "source": [
    "sb[\"Proportion of the population using improved sanitation facilities, urban\"].plot.hist(density=True)\n",
    "plt.axvline(sb['Proportion of the population using improved sanitation facilities, urban'].median(), color= 'r', linestyle= 'dashed', linewidth= 5)\n",
    "plt.grid(True)"
   ]
  },
  {
   "cell_type": "markdown",
   "metadata": {},
   "source": [
    "Observamos que o valor da média e da mediana coincidem, com isso a distribuição é simetrica, conforme observado no histograma. Portanto a população que possui acesso ao sanemaneto básico está em torno de 24."
   ]
  },
  {
   "cell_type": "markdown",
   "metadata": {},
   "source": [
    "### Energia "
   ]
  },
  {
   "cell_type": "code",
   "execution_count": 209,
   "metadata": {},
   "outputs": [
    {
     "data": {
      "image/png": "[encoded data removed]",
      "text/plain": [
       "<Figure size 432x288 with 1 Axes>"
      ]
     },
     "metadata": {},
     "output_type": "display_data"
    }
   ],
   "source": [
    "ener[\"Energy production\"].plot.hist(density=True)\n",
    "plt.axvline(ener['Energy production'].median(), color= 'r', linestyle= 'dashed', linewidth= 3)\n",
    "plt.grid(True)"
   ]
  },
  {
   "cell_type": "markdown",
   "metadata": {},
   "source": [
    "Observamos que a mediana é próxima a 4000 e a distribuição é assimétrica à esquerda, conforme observado no histograma. Portanto a quantidade de países que possuem um alto valor de produção de energia está entre 1000 a 4000."
   ]
  },
  {
   "cell_type": "markdown",
   "metadata": {},
   "source": [
    "### IDH"
   ]
  },
  {
   "cell_type": "code",
   "execution_count": 210,
   "metadata": {},
   "outputs": [
    {
     "data": {
      "image/png": "[encoded data removed]",
      "text/plain": [
       "<Figure size 432x288 with 1 Axes>"
      ]
     },
     "metadata": {},
     "output_type": "display_data"
    }
   ],
   "source": [
    "idh[\"HDI\"].plot.hist(density=True)\n",
    "plt.axvline(idh['HDI'].median(), color= 'r', linestyle= 'dashed', linewidth= 3)\n",
    "plt.grid(True)"
   ]
  },
  {
   "cell_type": "markdown",
   "metadata": {},
   "source": [
    "Podemos observar que a média e a mediana estão próximas, sendo que há uma maior concentração ao centro do histograma. Portanto a mediana do Índice de Desenvolvimento Humano se aproxima a 0.34. "
   ]
  },
  {
   "cell_type": "markdown",
   "metadata": {},
   "source": [
    "# ***Conclusão***"
   ]
  },
  {
   "cell_type": "markdown",
   "metadata": {},
   "source": [
    "A partir das análises feitas acima, é possivel observar que os dados de sanemamento básico urbano possuem uma correlação com o IDH, pois segundo um estudo feito pelo Trata Brasil/FGV, a população que não possui acesso ao sanemaneto estão suscetíveis a doenças gastrointestinais, contribuindo para uma queda na expectativa de vida. Isso gera um custo elevado ao governo, sendo que se houvesse melhoria na infraestrutura, o custo com a saúde pública seria mais baixo e seria possivel aplicar esta economia a outro setor, o qual poderia aumentar o PIB dos países. Outro dado levantado pelo estudo Trata Brasil/FGV, traz a informação que crianças que vivem em ambientes inóspitos com falta de acesso ao sanemamento básico, possuem rendimento escolar 18% inferior ao das crianças que vivem em uma ambiente com acesso ao sanemaento. Portanto, estes dados se correlacionam.\n",
    "\n",
    "Já os dados de energia produzida e de Índice de Desenvolvimento Humano, não possuem muita correlação, pois um país desenvolvido não precisa ter uma alta produção de energia para ter um bom IDH. Como é o caso do Chile, que possui um IDH de 0.789 e uma produção de energia de 9298.844, enquanto o Yemen, possui uma alta produção de energia de 15221.547, mas possui um IDH de 0,452. Portanto, a energia produzida não exerce influência sob o IDH."
   ]
  }
 ],
 "metadata": {
  "kernelspec": {
   "display_name": "Python 3",
   "language": "python",
   "name": "python3"
  },
  "language_info": {
   "codemirror_mode": {
    "name": "ipython",
    "version": 3
   },
   "file_extension": ".py",
   "mimetype": "text/x-python",
   "name": "python",
   "nbconvert_exporter": "python",
   "pygments_lexer": "ipython3",
   "version": "3.6.5"
  }
 },
 "nbformat": 4,
 "nbformat_minor": 2
}
